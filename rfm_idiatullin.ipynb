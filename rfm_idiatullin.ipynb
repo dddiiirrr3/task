{
 "cells": [
  {
   "cell_type": "code",
   "execution_count": 111,
   "metadata": {},
   "outputs": [],
   "source": [
    "import pandas as pd\n",
    "import matplotlib.pyplot as plt\n",
    "import seaborn as sns\n",
    "import numpy as np\n",
    "import warnings\n",
    "warnings.filterwarnings('ignore')\n",
    "%matplotlib inline"
   ]
  },
  {
   "cell_type": "code",
   "execution_count": 112,
   "metadata": {},
   "outputs": [],
   "source": [
    "rfm = pd.read_csv('rfm.csv')"
   ]
  },
  {
   "cell_type": "markdown",
   "metadata": {},
   "source": [
    "## из исходных данных создадим таблицу с такими столбцами:\n",
    "+ карта лояльности\n",
    "+ количество покупок - количество различных товаров, купленных клиентом\n",
    "+ количество чеков - количество посещений магазина клиентом\n",
    "+ сумма покупок - количество потраченных денег клиентом за весь период\n",
    "+ время посещения(дней) - разница между последним и первым посещением в днях\n",
    "+ количество дней с последнего визита - за дату отсчета возьмем, от которой считаем количество дней, возьмем `2019-01-02`"
   ]
  },
  {
   "cell_type": "code",
   "execution_count": 113,
   "metadata": {},
   "outputs": [
    {
     "data": {
      "text/html": [
       "<div>\n",
       "<style scoped>\n",
       "    .dataframe tbody tr th:only-of-type {\n",
       "        vertical-align: middle;\n",
       "    }\n",
       "\n",
       "    .dataframe tbody tr th {\n",
       "        vertical-align: top;\n",
       "    }\n",
       "\n",
       "    .dataframe thead th {\n",
       "        text-align: right;\n",
       "    }\n",
       "</style>\n",
       "<table border=\"1\" class=\"dataframe\">\n",
       "  <thead>\n",
       "    <tr style=\"text-align: right;\">\n",
       "      <th></th>\n",
       "      <th>количество покупок</th>\n",
       "      <th>количество чеков</th>\n",
       "      <th>сумма покупок</th>\n",
       "      <th>время посещения(дней)</th>\n",
       "      <th>средний чек</th>\n",
       "      <th>количество дней с последнего визита</th>\n",
       "    </tr>\n",
       "  </thead>\n",
       "  <tbody>\n",
       "    <tr>\n",
       "      <th>count</th>\n",
       "      <td>13303.000000</td>\n",
       "      <td>13303.000000</td>\n",
       "      <td>13303.000000</td>\n",
       "      <td>13303.000000</td>\n",
       "      <td>13303.000000</td>\n",
       "      <td>13303.000000</td>\n",
       "    </tr>\n",
       "    <tr>\n",
       "      <th>mean</th>\n",
       "      <td>15.910922</td>\n",
       "      <td>3.099451</td>\n",
       "      <td>4678.493949</td>\n",
       "      <td>60.745997</td>\n",
       "      <td>1642.049742</td>\n",
       "      <td>58.182891</td>\n",
       "    </tr>\n",
       "    <tr>\n",
       "      <th>std</th>\n",
       "      <td>28.985305</td>\n",
       "      <td>5.684108</td>\n",
       "      <td>10332.308314</td>\n",
       "      <td>106.085724</td>\n",
       "      <td>2551.205999</td>\n",
       "      <td>75.345384</td>\n",
       "    </tr>\n",
       "    <tr>\n",
       "      <th>min</th>\n",
       "      <td>1.000000</td>\n",
       "      <td>1.000000</td>\n",
       "      <td>0.000000</td>\n",
       "      <td>0.000000</td>\n",
       "      <td>0.000000</td>\n",
       "      <td>1.000000</td>\n",
       "    </tr>\n",
       "    <tr>\n",
       "      <th>25%</th>\n",
       "      <td>3.000000</td>\n",
       "      <td>1.000000</td>\n",
       "      <td>715.500000</td>\n",
       "      <td>0.000000</td>\n",
       "      <td>480.000000</td>\n",
       "      <td>13.000000</td>\n",
       "    </tr>\n",
       "    <tr>\n",
       "      <th>50%</th>\n",
       "      <td>7.000000</td>\n",
       "      <td>1.000000</td>\n",
       "      <td>1775.000000</td>\n",
       "      <td>0.000000</td>\n",
       "      <td>995.666667</td>\n",
       "      <td>36.000000</td>\n",
       "    </tr>\n",
       "    <tr>\n",
       "      <th>75%</th>\n",
       "      <td>16.000000</td>\n",
       "      <td>3.000000</td>\n",
       "      <td>4641.000000</td>\n",
       "      <td>61.000000</td>\n",
       "      <td>1969.916667</td>\n",
       "      <td>67.000000</td>\n",
       "    </tr>\n",
       "    <tr>\n",
       "      <th>max</th>\n",
       "      <td>881.000000</td>\n",
       "      <td>191.000000</td>\n",
       "      <td>417740.000000</td>\n",
       "      <td>337.000000</td>\n",
       "      <td>121860.000000</td>\n",
       "      <td>357.000000</td>\n",
       "    </tr>\n",
       "  </tbody>\n",
       "</table>\n",
       "</div>"
      ],
      "text/plain": [
       "       количество покупок  количество чеков  сумма покупок  \\\n",
       "count        13303.000000      13303.000000   13303.000000   \n",
       "mean            15.910922          3.099451    4678.493949   \n",
       "std             28.985305          5.684108   10332.308314   \n",
       "min              1.000000          1.000000       0.000000   \n",
       "25%              3.000000          1.000000     715.500000   \n",
       "50%              7.000000          1.000000    1775.000000   \n",
       "75%             16.000000          3.000000    4641.000000   \n",
       "max            881.000000        191.000000  417740.000000   \n",
       "\n",
       "       время посещения(дней)    средний чек  \\\n",
       "count           13303.000000   13303.000000   \n",
       "mean               60.745997    1642.049742   \n",
       "std               106.085724    2551.205999   \n",
       "min                 0.000000       0.000000   \n",
       "25%                 0.000000     480.000000   \n",
       "50%                 0.000000     995.666667   \n",
       "75%                61.000000    1969.916667   \n",
       "max               337.000000  121860.000000   \n",
       "\n",
       "       количество дней с последнего визита  \n",
       "count                         13303.000000  \n",
       "mean                             58.182891  \n",
       "std                              75.345384  \n",
       "min                               1.000000  \n",
       "25%                              13.000000  \n",
       "50%                              36.000000  \n",
       "75%                              67.000000  \n",
       "max                             357.000000  "
      ]
     },
     "execution_count": 113,
     "metadata": {},
     "output_type": "execute_result"
    }
   ],
   "source": [
    "rfm.describe()"
   ]
  },
  {
   "cell_type": "code",
   "execution_count": 114,
   "metadata": {},
   "outputs": [
    {
     "data": {
      "text/html": [
       "<div>\n",
       "<style scoped>\n",
       "    .dataframe tbody tr th:only-of-type {\n",
       "        vertical-align: middle;\n",
       "    }\n",
       "\n",
       "    .dataframe tbody tr th {\n",
       "        vertical-align: top;\n",
       "    }\n",
       "\n",
       "    .dataframe thead th {\n",
       "        text-align: right;\n",
       "    }\n",
       "</style>\n",
       "<table border=\"1\" class=\"dataframe\">\n",
       "  <thead>\n",
       "    <tr style=\"text-align: right;\">\n",
       "      <th></th>\n",
       "      <th>карта</th>\n",
       "      <th>самая ранняя покупка</th>\n",
       "      <th>самая поздняя покупка</th>\n",
       "      <th>количество покупок</th>\n",
       "      <th>количество чеков</th>\n",
       "      <th>сумма покупок</th>\n",
       "      <th>время посещения(дней)</th>\n",
       "      <th>средний чек</th>\n",
       "      <th>количество дней с последнего визита</th>\n",
       "    </tr>\n",
       "  </thead>\n",
       "  <tbody>\n",
       "    <tr>\n",
       "      <th>0</th>\n",
       "      <td>23489164220602890</td>\n",
       "      <td>2018-01-10 10:05:20</td>\n",
       "      <td>2018-01-10 10:05:20</td>\n",
       "      <td>6.0</td>\n",
       "      <td>1.0</td>\n",
       "      <td>664.0</td>\n",
       "      <td>0</td>\n",
       "      <td>664.000000</td>\n",
       "      <td>357</td>\n",
       "    </tr>\n",
       "    <tr>\n",
       "      <th>1</th>\n",
       "      <td>23489856436419890</td>\n",
       "      <td>2018-01-10 10:11:02</td>\n",
       "      <td>2018-12-11 14:33:13</td>\n",
       "      <td>92.0</td>\n",
       "      <td>11.0</td>\n",
       "      <td>31752.0</td>\n",
       "      <td>335</td>\n",
       "      <td>2886.545455</td>\n",
       "      <td>21</td>\n",
       "    </tr>\n",
       "    <tr>\n",
       "      <th>2</th>\n",
       "      <td>2342880100497140890</td>\n",
       "      <td>2018-01-10 10:13:22</td>\n",
       "      <td>2018-12-11 17:22:11</td>\n",
       "      <td>196.0</td>\n",
       "      <td>24.0</td>\n",
       "      <td>40591.0</td>\n",
       "      <td>335</td>\n",
       "      <td>1691.291667</td>\n",
       "      <td>21</td>\n",
       "    </tr>\n",
       "    <tr>\n",
       "      <th>3</th>\n",
       "      <td>2342880100511600890</td>\n",
       "      <td>2018-01-10 10:37:31</td>\n",
       "      <td>2018-12-13 10:45:27</td>\n",
       "      <td>53.0</td>\n",
       "      <td>26.0</td>\n",
       "      <td>6823.0</td>\n",
       "      <td>337</td>\n",
       "      <td>262.423077</td>\n",
       "      <td>19</td>\n",
       "    </tr>\n",
       "    <tr>\n",
       "      <th>4</th>\n",
       "      <td>2342880100515141890</td>\n",
       "      <td>2018-01-10 11:48:41</td>\n",
       "      <td>2018-12-11 11:39:11</td>\n",
       "      <td>62.0</td>\n",
       "      <td>20.0</td>\n",
       "      <td>8341.0</td>\n",
       "      <td>334</td>\n",
       "      <td>417.050000</td>\n",
       "      <td>21</td>\n",
       "    </tr>\n",
       "    <tr>\n",
       "      <th>...</th>\n",
       "      <td>...</td>\n",
       "      <td>...</td>\n",
       "      <td>...</td>\n",
       "      <td>...</td>\n",
       "      <td>...</td>\n",
       "      <td>...</td>\n",
       "      <td>...</td>\n",
       "      <td>...</td>\n",
       "      <td>...</td>\n",
       "    </tr>\n",
       "    <tr>\n",
       "      <th>13298</th>\n",
       "      <td>2349038277601890.0</td>\n",
       "      <td>2018-12-31 08:47:19</td>\n",
       "      <td>2018-12-31 08:53:28</td>\n",
       "      <td>7.0</td>\n",
       "      <td>2.0</td>\n",
       "      <td>167.0</td>\n",
       "      <td>0</td>\n",
       "      <td>83.500000</td>\n",
       "      <td>2</td>\n",
       "    </tr>\n",
       "    <tr>\n",
       "      <th>13299</th>\n",
       "      <td>2.342880100531784e+18</td>\n",
       "      <td>2018-12-31 09:44:10</td>\n",
       "      <td>2018-12-31 09:44:10</td>\n",
       "      <td>2.0</td>\n",
       "      <td>1.0</td>\n",
       "      <td>364.0</td>\n",
       "      <td>0</td>\n",
       "      <td>364.000000</td>\n",
       "      <td>2</td>\n",
       "    </tr>\n",
       "    <tr>\n",
       "      <th>13300</th>\n",
       "      <td>2.348915970395089e+16</td>\n",
       "      <td>2018-12-31 12:39:40</td>\n",
       "      <td>2018-12-31 12:39:40</td>\n",
       "      <td>1.0</td>\n",
       "      <td>1.0</td>\n",
       "      <td>494.0</td>\n",
       "      <td>0</td>\n",
       "      <td>494.000000</td>\n",
       "      <td>1</td>\n",
       "    </tr>\n",
       "    <tr>\n",
       "      <th>13301</th>\n",
       "      <td>2.342880100544104e+18</td>\n",
       "      <td>2018-12-31 14:30:24</td>\n",
       "      <td>2018-12-31 14:30:24</td>\n",
       "      <td>6.0</td>\n",
       "      <td>1.0</td>\n",
       "      <td>1333.0</td>\n",
       "      <td>0</td>\n",
       "      <td>1333.000000</td>\n",
       "      <td>1</td>\n",
       "    </tr>\n",
       "    <tr>\n",
       "      <th>13302</th>\n",
       "      <td>2.34288010054576e+18</td>\n",
       "      <td>2018-12-31 17:23:54</td>\n",
       "      <td>2018-12-31 17:23:54</td>\n",
       "      <td>4.0</td>\n",
       "      <td>1.0</td>\n",
       "      <td>289.0</td>\n",
       "      <td>0</td>\n",
       "      <td>289.000000</td>\n",
       "      <td>1</td>\n",
       "    </tr>\n",
       "  </tbody>\n",
       "</table>\n",
       "<p>13303 rows × 9 columns</p>\n",
       "</div>"
      ],
      "text/plain": [
       "                       карта самая ранняя покупка самая поздняя покупка  \\\n",
       "0          23489164220602890  2018-01-10 10:05:20   2018-01-10 10:05:20   \n",
       "1          23489856436419890  2018-01-10 10:11:02   2018-12-11 14:33:13   \n",
       "2        2342880100497140890  2018-01-10 10:13:22   2018-12-11 17:22:11   \n",
       "3        2342880100511600890  2018-01-10 10:37:31   2018-12-13 10:45:27   \n",
       "4        2342880100515141890  2018-01-10 11:48:41   2018-12-11 11:39:11   \n",
       "...                      ...                  ...                   ...   \n",
       "13298     2349038277601890.0  2018-12-31 08:47:19   2018-12-31 08:53:28   \n",
       "13299  2.342880100531784e+18  2018-12-31 09:44:10   2018-12-31 09:44:10   \n",
       "13300  2.348915970395089e+16  2018-12-31 12:39:40   2018-12-31 12:39:40   \n",
       "13301  2.342880100544104e+18  2018-12-31 14:30:24   2018-12-31 14:30:24   \n",
       "13302   2.34288010054576e+18  2018-12-31 17:23:54   2018-12-31 17:23:54   \n",
       "\n",
       "       количество покупок  количество чеков  сумма покупок  \\\n",
       "0                     6.0               1.0          664.0   \n",
       "1                    92.0              11.0        31752.0   \n",
       "2                   196.0              24.0        40591.0   \n",
       "3                    53.0              26.0         6823.0   \n",
       "4                    62.0              20.0         8341.0   \n",
       "...                   ...               ...            ...   \n",
       "13298                 7.0               2.0          167.0   \n",
       "13299                 2.0               1.0          364.0   \n",
       "13300                 1.0               1.0          494.0   \n",
       "13301                 6.0               1.0         1333.0   \n",
       "13302                 4.0               1.0          289.0   \n",
       "\n",
       "       время посещения(дней)  средний чек  количество дней с последнего визита  \n",
       "0                          0   664.000000                                  357  \n",
       "1                        335  2886.545455                                   21  \n",
       "2                        335  1691.291667                                   21  \n",
       "3                        337   262.423077                                   19  \n",
       "4                        334   417.050000                                   21  \n",
       "...                      ...          ...                                  ...  \n",
       "13298                      0    83.500000                                    2  \n",
       "13299                      0   364.000000                                    2  \n",
       "13300                      0   494.000000                                    1  \n",
       "13301                      0  1333.000000                                    1  \n",
       "13302                      0   289.000000                                    1  \n",
       "\n",
       "[13303 rows x 9 columns]"
      ]
     },
     "execution_count": 114,
     "metadata": {},
     "output_type": "execute_result"
    }
   ],
   "source": [
    "rfm"
   ]
  },
  {
   "cell_type": "markdown",
   "metadata": {},
   "source": [
    "## разделим на категории по показателям \n",
    "+ **средний чек** \n",
    "+ **количество чеков**\n",
    "+ **количество дней с последнего визита**\n",
    "\n",
    "'средний чек' разделим на 4 категории:\n",
    "+ средний чек меньше 500 рублей\n",
    "+ средний чек от 500 до 2000 рублей\n",
    "+ средний чек от 2000 до 6000 рублей\n",
    "+ средний чек более 6000 рублей\n",
    "\n",
    "**!!!на гистограмме ниже только первые три категории**"
   ]
  },
  {
   "cell_type": "code",
   "execution_count": 115,
   "metadata": {},
   "outputs": [
    {
     "name": "stdout",
     "output_type": "stream",
     "text": [
      "количество клиентов с средним чеком менее 500 рублей:  3499\n",
      "количество клиентов с средним чеком от 500 до 2000 рублей:  6542\n",
      "количество клиентов с средним чеком от 2000 до 6000 рублей:  2807\n",
      "количество клиентов с средним чеком более 6000 рублей:  454\n"
     ]
    },
    {
     "data": {
      "image/png": "[encoded data removed]",
      "text/plain": [
       "<Figure size 2880x720 with 1 Axes>"
      ]
     },
     "metadata": {
      "needs_background": "light"
     },
     "output_type": "display_data"
    }
   ],
   "source": [
    "print('количество клиентов с средним чеком менее 500 рублей: ', len(rfm[rfm['средний чек'] < 500]))\n",
    "print('количество клиентов с средним чеком от 500 до 2000 рублей: ', len(rfm[(rfm['средний чек'] >= 500) & (rfm['средний чек'] <= 2000)]))\n",
    "print('количество клиентов с средним чеком от 2000 до 6000 рублей: ', len(rfm[(rfm['средний чек'] > 2000) & (rfm['средний чек'] < 6000)]))\n",
    "print('количество клиентов с средним чеком более 6000 рублей: ', len(rfm[rfm['средний чек'] > 6000]))\n",
    "plt.figure(figsize=(40,10))\n",
    "plt.title('средний чек')\n",
    "rfm[(rfm['средний чек'] >= 500) & (rfm['средний чек'] <= 2000)]['средний чек'].hist(bins=75);\n",
    "rfm[rfm['средний чек'] < 500]['средний чек'].hist(bins=25);\n",
    "rfm[(rfm['средний чек'] > 2000) & (rfm['средний чек'] < 6000)]['средний чек'].hist(bins=200);"
   ]
  },
  {
   "cell_type": "markdown",
   "metadata": {},
   "source": [
    "'количество чеков' разделим на 3 категории:\n",
    "+ 1 чек\n",
    "+ от 2 до 11 чеков\n",
    "+ более 11\n",
    "\n",
    "**!!!на гистограмме ниже только первые две категории**"
   ]
  },
  {
   "cell_type": "code",
   "execution_count": 116,
   "metadata": {},
   "outputs": [
    {
     "name": "stdout",
     "output_type": "stream",
     "text": [
      "количество клиентов с 1 чеком:  6986\n",
      "количество клиентов от 2 до 11 чеков:  5749\n",
      "количество клиентов более 11 чеков:  568\n"
     ]
    },
    {
     "data": {
      "image/png": "[encoded data removed]",
      "text/plain": [
       "<Figure size 2880x720 with 1 Axes>"
      ]
     },
     "metadata": {
      "needs_background": "light"
     },
     "output_type": "display_data"
    }
   ],
   "source": [
    "print('количество клиентов с 1 чеком: ', len(rfm[rfm['количество чеков'] == 1]))\n",
    "print('количество клиентов от 2 до 11 чеков: ', len(rfm[(rfm['количество чеков'] >= 2) & (rfm['количество чеков'] <= 11)]))\n",
    "print('количество клиентов более 11 чеков: ', len(rfm[rfm['количество чеков'] >= 12]))\n",
    "plt.figure(figsize=(40,10))\n",
    "rfm[rfm['количество чеков'] == 1]['количество чеков'].hist(bins=1);\n",
    "rfm[(rfm['количество чеков'] >= 2) & (rfm['количество чеков'] <= 11)]['количество чеков'].hist(bins=10);\n",
    "#rfm[rfm['количество чеков'] >= 12]['количество чеков'].hist(bins=10);"
   ]
  },
  {
   "cell_type": "markdown",
   "metadata": {},
   "source": [
    "'количество дней с последнего визита' разделим на 3 категории:\n",
    "+ с последнего визита прошло менее 7 дней\n",
    "+ прошло от 7 до 30 дней\n",
    "+ прошло более 30 дней\n",
    "\n",
    "**!!!на гистограмме ниже только первые две категории**"
   ]
  },
  {
   "cell_type": "code",
   "execution_count": 117,
   "metadata": {},
   "outputs": [
    {
     "name": "stdout",
     "output_type": "stream",
     "text": [
      "с последнего визита прошло менее 7 дней:  2022\n",
      "прошло от 7 до 30 дней:  3500\n",
      "прошло более 30 дней:  7781\n"
     ]
    },
    {
     "data": {
      "image/png": "[encoded data removed]",
      "text/plain": [
       "<Figure size 2880x720 with 1 Axes>"
      ]
     },
     "metadata": {
      "needs_background": "light"
     },
     "output_type": "display_data"
    }
   ],
   "source": [
    "print('с последнего визита прошло менее 7 дней: ', len(rfm[rfm['количество дней с последнего визита'] < 7]))\n",
    "print('прошло от 7 до 30 дней: ', len(rfm[(rfm['количество дней с последнего визита'] >= 7) & (rfm['количество дней с последнего визита'] <= 30)]))\n",
    "print('прошло более 30 дней: ', len(rfm[rfm['количество дней с последнего визита'] > 30]))\n",
    "plt.figure(figsize=(40,10))\n",
    "rfm[rfm['количество дней с последнего визита'] < 7]['количество дней с последнего визита'].hist(bins=3);\n",
    "rfm[(rfm['количество дней с последнего визита'] >= 7) & (rfm['количество дней с последнего визита'] <= 30)]['количество дней с последнего визита'].hist(bins=10);\n"
   ]
  },
  {
   "cell_type": "code",
   "execution_count": 118,
   "metadata": {},
   "outputs": [
    {
     "data": {
      "text/html": [
       "<div>\n",
       "<style scoped>\n",
       "    .dataframe tbody tr th:only-of-type {\n",
       "        vertical-align: middle;\n",
       "    }\n",
       "\n",
       "    .dataframe tbody tr th {\n",
       "        vertical-align: top;\n",
       "    }\n",
       "\n",
       "    .dataframe thead th {\n",
       "        text-align: right;\n",
       "    }\n",
       "</style>\n",
       "<table border=\"1\" class=\"dataframe\">\n",
       "  <thead>\n",
       "    <tr style=\"text-align: right;\">\n",
       "      <th></th>\n",
       "      <th>карта</th>\n",
       "      <th>самая ранняя покупка</th>\n",
       "      <th>самая поздняя покупка</th>\n",
       "      <th>количество покупок</th>\n",
       "      <th>количество чеков</th>\n",
       "      <th>сумма покупок</th>\n",
       "      <th>время посещения(дней)</th>\n",
       "      <th>средний чек</th>\n",
       "      <th>количество дней с последнего визита</th>\n",
       "    </tr>\n",
       "  </thead>\n",
       "  <tbody>\n",
       "  </tbody>\n",
       "</table>\n",
       "</div>"
      ],
      "text/plain": [
       "Empty DataFrame\n",
       "Columns: [карта, самая ранняя покупка, самая поздняя покупка, количество покупок, количество чеков, сумма покупок, время посещения(дней), средний чек, количество дней с последнего визита]\n",
       "Index: []"
      ]
     },
     "execution_count": 118,
     "metadata": {},
     "output_type": "execute_result"
    }
   ],
   "source": [
    "rfm[(rfm['количество дней с последнего визита'] < 7) & (rfm['средний чек'] > 6000) & (rfm['количество чеков'] >= 12)]"
   ]
  },
  {
   "cell_type": "markdown",
   "metadata": {},
   "source": [
    "Клиентов можно разделить на 36 категорий (все сочетания признаков выше) вычеркнуты самые нелояльные клиенты и жирным отмечены самые лояльные категории:\n",
    "\n",
    "+ средний чек меньше 500 рублей + 1 чек + с последнего визита прошло менее 7 дней - 199 клиентов\n",
    "+ средний чек меньше 500 рублей + 1 чек + прошло от 7 до 30 дней - 584 клиентов\n",
    "+ ~~средний чек меньше 500 рублей + 1 чек + прошло более 30 дней~~ - 1357 клиентов\n",
    "\n",
    "+ средний чек меньше 500 рублей + от 2 до 11 чеков + с последнего визита прошло менее 7 дней\n",
    "+ средний чек меньше 500 рублей + от 2 до 11 чеков + прошло от 7 до 30 дней\n",
    "+ средний чек меньше 500 рублей + от 2 до 11 чеков + прошло более 30 дней\n",
    "\n",
    "+ средний чек меньше 500 рублей + более 11 + с последнего визита прошло менее 7 дней\n",
    "+ средний чек меньше 500 рублей + более 11 + прошло от 7 до 30 дней\n",
    "+ средний чек меньше 500 рублей + более 11 + прошло более 30 дней\n",
    "\n",
    "\n",
    "-------\n",
    "\n",
    "+ средний чек от 500 до 2000 рублей + 1 чек + с последнего визита прошло менее 7 дней\n",
    "+ средний чек от 500 до 2000 рублей + 1 чек + прошло от 7 до 30 дней \n",
    "+ ~~средний чек от 500 до 2000 рублей + 1 чек + прошло более 30 дней~~\n",
    "\n",
    "+ средний чек от 500 до 2000 рублей + от 2 до 11 чеков + с последнего визита прошло менее 7 дней\n",
    "+ средний чек от 500 до 2000 рублей + от 2 до 11 чеков + прошло от 7 до 30 дней\n",
    "+ средний чек от 500 до 2000 рублей + от 2 до 11 чеков + прошло более 30 дней\n",
    "\n",
    "+ **средний чек от 500 до 2000 рублей + более 11 + с последнего визита прошло менее 7 дней** - 23 клиента\n",
    "+ **средний чек от 500 до 2000 рублей + более 11 + прошло от 7 до 30 дней** - 197 клиентов\n",
    "+ средний чек от 500 до 2000 рублей + более 11 + прошло более 30 дней\n",
    "\n",
    "\n",
    "---------\n",
    "\n",
    "\n",
    "+ средний чек от 2000 до 6000 рублей + 1 чек + с последнего визита прошло менее 7 дней\n",
    "+ средний чек от 2000 до 6000 рублей + 1 чек + прошло от 7 до 30 дней \n",
    "+ ~~средний чек от 2000 до 6000 рублей + 1 чек + прошло более 30 дней~~\n",
    "\n",
    "+ средний чек от 2000 до 6000 рублей + от 2 до 11 чеков + с последнего визита прошло менее 7 дней\n",
    "+ средний чек от 2000 до 6000 рублей + от 2 до 11 чеков + прошло от 7 до 30 дней\n",
    "+ средний чек от 2000 до 6000 рублей + от 2 до 11 чеков + прошло более 30 дней\n",
    "\n",
    "+ **средний чек от 2000 до 6000 рублей + более 11 + с последнего визита прошло менее 7 дней** - 5 клиентов\n",
    "+ **средний чек от 2000 до 6000 рублей + более 11 + прошло от 7 до 30 дней** - 65 клиентов\n",
    "+ средний чек от 2000 до 6000 рублей + более 11 + прошло более 30 дней\n",
    "\n",
    "\n",
    "----------\n",
    "\n",
    "+ средний чек более 6000 рублей + 1 чек + с последнего визита прошло менее 7 дней\n",
    "+ средний чек более 6000 рублей + 1 чек + прошло от 7 до 30 дней \n",
    "+ ~~средний чек более 6000 рублей + 1 чек + прошло более 30 дней~~\n",
    "\n",
    "+ средний чек более 6000 рублей + от 2 до 11 чеков + с последнего визита прошло менее 7 дней\n",
    "+ средний чек более 6000 рублей + от 2 до 11 чеков + прошло от 7 до 30 дней\n",
    "+ средний чек более 6000 рублей + от 2 до 11 чеков + прошло более 30 дней\n",
    "\n",
    "+ **средний чек более 6000 рублей + более 11 + с последнего визита прошло менее 7 дней** - 0 клиентов\n",
    "+ **средний чек более 6000 рублей + более 11 + прошло от 7 до 30 дней** - 4 клиента\n",
    "+ средний чек более 6000 рублей + более 11 + прошло более 30 дней\n",
    "\n",
    "\n",
    "\n",
    "\n",
    "\n"
   ]
  },
  {
   "cell_type": "markdown",
   "metadata": {},
   "source": [
    "# что можно сделать с полученными данными:\n",
    "\n",
    "+ можно у самых лояльных клиентов проанализировать покупки и предложить им новые аналоги товаров, которые они покупают (например в мобильном приложении)\n",
    "+ партнерская программа для самых лояльных клиентов - если они привлекут своих знакомых и друзей в эту сеть, то для них какие-то бонусы (можно и для привлеченных знакомых бонусы)\n",
    "+ для средних клиентов можно предложить бонусы на покупки, если клиент совершит покупку в течение например 7 дней и на определенную сумму\n",
    "+ вообще чтобы повысить средний чек клиента, можно предложить какие-то бонусы, которые начинают действовать с определенной суммы покупки\n",
    "+ а чтобы привлечь клиента, который давно не был, можно в приложении предложить бонусы, которые действуют только определенное время\n",
    "+ можно посмотреть, сколько денег принесла каждая категория клиентов\n",
    "\n",
    "## еще можно использовать другой подход в анализе\n",
    "\n",
    "### Анализировать не клиентов, а проданные товары (например при анализе клиентов никак не анализируются покупки, которые совершены без карт лояльности)\n",
    "\n",
    "### здесь можно сделать следующее:\n",
    "\n",
    "+ анализировать проданные товары и предсказывать на них спрос (нужно больше данных для анализа)\n",
    "+ предсказывать спрос на скоропортящиеся продукты и тем самым уменьшить отходы, закупая только нужное количество\n",
    "+ на категории товаров, которые берут больше всего, увеличивать ассортимент с помощью более дорогих и более качественных аналогов\n",
    " + например для условных обычных макарон добавить аналог подороже, но в начале продавать его по акции (по цене обычных макарон), а потом повышать цены\n",
    "+ анализировать сочетания товаров, которые часто берутся (далее для тех, кто берет из этого сочетания одно, предлагать другое из сочетания)"
   ]
  },
  {
   "cell_type": "code",
   "execution_count": null,
   "metadata": {},
   "outputs": [],
   "source": []
  },
  {
   "cell_type": "code",
   "execution_count": null,
   "metadata": {},
   "outputs": [],
   "source": []
  },
  {
   "cell_type": "code",
   "execution_count": null,
   "metadata": {},
   "outputs": [],
   "source": []
  },
  {
   "cell_type": "code",
   "execution_count": null,
   "metadata": {},
   "outputs": [],
   "source": []
  },
  {
   "cell_type": "code",
   "execution_count": null,
   "metadata": {},
   "outputs": [],
   "source": []
  },
  {
   "cell_type": "code",
   "execution_count": null,
   "metadata": {},
   "outputs": [],
   "source": []
  },
  {
   "cell_type": "code",
   "execution_count": null,
   "metadata": {},
   "outputs": [],
   "source": []
  },
  {
   "cell_type": "code",
   "execution_count": null,
   "metadata": {},
   "outputs": [],
   "source": []
  },
  {
   "cell_type": "code",
   "execution_count": null,
   "metadata": {},
   "outputs": [],
   "source": []
  },
  {
   "cell_type": "code",
   "execution_count": null,
   "metadata": {},
   "outputs": [],
   "source": []
  },
  {
   "cell_type": "code",
   "execution_count": null,
   "metadata": {},
   "outputs": [],
   "source": []
  },
  {
   "cell_type": "code",
   "execution_count": null,
   "metadata": {},
   "outputs": [],
   "source": []
  },
  {
   "cell_type": "code",
   "execution_count": null,
   "metadata": {},
   "outputs": [],
   "source": []
  },
  {
   "cell_type": "code",
   "execution_count": null,
   "metadata": {},
   "outputs": [],
   "source": []
  },
  {
   "cell_type": "code",
   "execution_count": null,
   "metadata": {},
   "outputs": [],
   "source": []
  },
  {
   "cell_type": "code",
   "execution_count": null,
   "metadata": {},
   "outputs": [],
   "source": []
  },
  {
   "cell_type": "code",
   "execution_count": null,
   "metadata": {},
   "outputs": [],
   "source": []
  },
  {
   "cell_type": "code",
   "execution_count": null,
   "metadata": {},
   "outputs": [],
   "source": []
  },
  {
   "cell_type": "code",
   "execution_count": null,
   "metadata": {},
   "outputs": [],
   "source": []
  },
  {
   "cell_type": "code",
   "execution_count": null,
   "metadata": {},
   "outputs": [],
   "source": []
  },
  {
   "cell_type": "code",
   "execution_count": null,
   "metadata": {},
   "outputs": [],
   "source": []
  },
  {
   "cell_type": "code",
   "execution_count": null,
   "metadata": {},
   "outputs": [],
   "source": []
  },
  {
   "cell_type": "code",
   "execution_count": null,
   "metadata": {},
   "outputs": [],
   "source": []
  },
  {
   "cell_type": "code",
   "execution_count": null,
   "metadata": {},
   "outputs": [],
   "source": []
  }
 ],
 "metadata": {
  "kernelspec": {
   "display_name": "PyCharm (codes7)",
   "language": "python",
   "name": "pycharm-fa67c5f"
  },
  "language_info": {
   "codemirror_mode": {
    "name": "ipython",
    "version": 3
   },
   "file_extension": ".py",
   "mimetype": "text/x-python",
   "name": "python",
   "nbconvert_exporter": "python",
   "pygments_lexer": "ipython3",
   "version": "3.7.5"
  }
 },
 "nbformat": 4,
 "nbformat_minor": 4
}
